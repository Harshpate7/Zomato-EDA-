{
 "cells": [
  {
   "cell_type": "code",
   "execution_count": 2,
   "metadata": {},
   "outputs": [],
   "source": [
    "import pandas as pd\n",
    "import numpy as np\n",
    "import seaborn as sns\n",
    "import matplotlib.pyplot as plt\n",
    "import plotly as px\n"
   ]
  },
  {
   "cell_type": "code",
   "execution_count": 3,
   "metadata": {},
   "outputs": [],
   "source": [
    "df = pd.read_csv('zomato_dataset.csv')"
   ]
  },
  {
   "cell_type": "code",
   "execution_count": 4,
   "metadata": {},
   "outputs": [
    {
     "data": {
      "text/html": [
       "<div>\n",
       "<style scoped>\n",
       "    .dataframe tbody tr th:only-of-type {\n",
       "        vertical-align: middle;\n",
       "    }\n",
       "\n",
       "    .dataframe tbody tr th {\n",
       "        vertical-align: top;\n",
       "    }\n",
       "\n",
       "    .dataframe thead th {\n",
       "        text-align: right;\n",
       "    }\n",
       "</style>\n",
       "<table border=\"1\" class=\"dataframe\">\n",
       "  <thead>\n",
       "    <tr style=\"text-align: right;\">\n",
       "      <th></th>\n",
       "      <th>Restaurant Name</th>\n",
       "      <th>Dining Rating</th>\n",
       "      <th>Delivery Rating</th>\n",
       "      <th>Dining Votes</th>\n",
       "      <th>Delivery Votes</th>\n",
       "      <th>Cuisine</th>\n",
       "      <th>Place Name</th>\n",
       "      <th>City</th>\n",
       "      <th>Item Name</th>\n",
       "      <th>Best Seller</th>\n",
       "      <th>Votes</th>\n",
       "      <th>Prices</th>\n",
       "    </tr>\n",
       "  </thead>\n",
       "  <tbody>\n",
       "    <tr>\n",
       "      <th>0</th>\n",
       "      <td>Doner King</td>\n",
       "      <td>3.9</td>\n",
       "      <td>4.2</td>\n",
       "      <td>39</td>\n",
       "      <td>0</td>\n",
       "      <td>Fast Food</td>\n",
       "      <td>Malakpet</td>\n",
       "      <td>Hyderabad</td>\n",
       "      <td>Platter Kebab Combo</td>\n",
       "      <td>BESTSELLER</td>\n",
       "      <td>84</td>\n",
       "      <td>249.0</td>\n",
       "    </tr>\n",
       "    <tr>\n",
       "      <th>1</th>\n",
       "      <td>Doner King</td>\n",
       "      <td>3.9</td>\n",
       "      <td>4.2</td>\n",
       "      <td>39</td>\n",
       "      <td>0</td>\n",
       "      <td>Fast Food</td>\n",
       "      <td>Malakpet</td>\n",
       "      <td>Hyderabad</td>\n",
       "      <td>Chicken Rumali Shawarma</td>\n",
       "      <td>BESTSELLER</td>\n",
       "      <td>45</td>\n",
       "      <td>129.0</td>\n",
       "    </tr>\n",
       "    <tr>\n",
       "      <th>2</th>\n",
       "      <td>Doner King</td>\n",
       "      <td>3.9</td>\n",
       "      <td>4.2</td>\n",
       "      <td>39</td>\n",
       "      <td>0</td>\n",
       "      <td>Fast Food</td>\n",
       "      <td>Malakpet</td>\n",
       "      <td>Hyderabad</td>\n",
       "      <td>Chicken Tandoori Salad</td>\n",
       "      <td>NaN</td>\n",
       "      <td>39</td>\n",
       "      <td>189.0</td>\n",
       "    </tr>\n",
       "    <tr>\n",
       "      <th>3</th>\n",
       "      <td>Doner King</td>\n",
       "      <td>3.9</td>\n",
       "      <td>4.2</td>\n",
       "      <td>39</td>\n",
       "      <td>0</td>\n",
       "      <td>Fast Food</td>\n",
       "      <td>Malakpet</td>\n",
       "      <td>Hyderabad</td>\n",
       "      <td>Chicken BBQ Salad</td>\n",
       "      <td>BESTSELLER</td>\n",
       "      <td>43</td>\n",
       "      <td>189.0</td>\n",
       "    </tr>\n",
       "    <tr>\n",
       "      <th>4</th>\n",
       "      <td>Doner King</td>\n",
       "      <td>3.9</td>\n",
       "      <td>4.2</td>\n",
       "      <td>39</td>\n",
       "      <td>0</td>\n",
       "      <td>Fast Food</td>\n",
       "      <td>Malakpet</td>\n",
       "      <td>Hyderabad</td>\n",
       "      <td>Special Doner Wrap Combo</td>\n",
       "      <td>MUST TRY</td>\n",
       "      <td>31</td>\n",
       "      <td>205.0</td>\n",
       "    </tr>\n",
       "  </tbody>\n",
       "</table>\n",
       "</div>"
      ],
      "text/plain": [
       "  Restaurant Name  Dining Rating  Delivery Rating  Dining Votes  \\\n",
       "0      Doner King            3.9              4.2            39   \n",
       "1      Doner King            3.9              4.2            39   \n",
       "2      Doner King            3.9              4.2            39   \n",
       "3      Doner King            3.9              4.2            39   \n",
       "4      Doner King            3.9              4.2            39   \n",
       "\n",
       "   Delivery Votes   Cuisine  Place Name        City                 Item Name  \\\n",
       "0               0  Fast Food   Malakpet   Hyderabad       Platter Kebab Combo   \n",
       "1               0  Fast Food   Malakpet   Hyderabad   Chicken Rumali Shawarma   \n",
       "2               0  Fast Food   Malakpet   Hyderabad    Chicken Tandoori Salad   \n",
       "3               0  Fast Food   Malakpet   Hyderabad         Chicken BBQ Salad   \n",
       "4               0  Fast Food   Malakpet   Hyderabad  Special Doner Wrap Combo   \n",
       "\n",
       "  Best Seller  Votes  Prices  \n",
       "0  BESTSELLER     84   249.0  \n",
       "1  BESTSELLER     45   129.0  \n",
       "2         NaN     39   189.0  \n",
       "3  BESTSELLER     43   189.0  \n",
       "4    MUST TRY     31   205.0  "
      ]
     },
     "execution_count": 4,
     "metadata": {},
     "output_type": "execute_result"
    }
   ],
   "source": [
    "df.head()"
   ]
  },
  {
   "cell_type": "code",
   "execution_count": 5,
   "metadata": {},
   "outputs": [],
   "source": [
    "df['Delivery Rating'] = df['Delivery Rating'].fillna(0)\n",
    "df['Dining Rating'] = df['Dining Rating'].fillna(0)"
   ]
  },
  {
   "cell_type": "code",
   "execution_count": 6,
   "metadata": {},
   "outputs": [
    {
     "name": "stdout",
     "output_type": "stream",
     "text": [
      "<class 'pandas.core.frame.DataFrame'>\n",
      "RangeIndex: 123657 entries, 0 to 123656\n",
      "Data columns (total 12 columns):\n",
      " #   Column           Non-Null Count   Dtype  \n",
      "---  ------           --------------   -----  \n",
      " 0   Restaurant Name  123657 non-null  object \n",
      " 1   Dining Rating    123657 non-null  float64\n",
      " 2   Delivery Rating  123657 non-null  float64\n",
      " 3   Dining Votes     123657 non-null  int64  \n",
      " 4   Delivery Votes   123657 non-null  int64  \n",
      " 5   Cuisine          123657 non-null  object \n",
      " 6   Place Name       123657 non-null  object \n",
      " 7   City             123657 non-null  object \n",
      " 8   Item Name        123657 non-null  object \n",
      " 9   Best Seller      27942 non-null   object \n",
      " 10  Votes            123657 non-null  int64  \n",
      " 11  Prices           123657 non-null  float64\n",
      "dtypes: float64(3), int64(3), object(6)\n",
      "memory usage: 11.3+ MB\n"
     ]
    }
   ],
   "source": [
    "df.info()"
   ]
  },
  {
   "cell_type": "code",
   "execution_count": 7,
   "metadata": {},
   "outputs": [
    {
     "data": {
      "text/plain": [
       "Restaurant Name        0\n",
       "Dining Rating          0\n",
       "Delivery Rating        0\n",
       "Dining Votes           0\n",
       "Delivery Votes         0\n",
       "Cuisine                0\n",
       "Place Name             0\n",
       "City                   0\n",
       "Item Name              0\n",
       "Best Seller        95715\n",
       "Votes                  0\n",
       "Prices                 0\n",
       "dtype: int64"
      ]
     },
     "execution_count": 7,
     "metadata": {},
     "output_type": "execute_result"
    }
   ],
   "source": [
    "df.isnull().sum()"
   ]
  },
  {
   "cell_type": "code",
   "execution_count": 8,
   "metadata": {},
   "outputs": [
    {
     "data": {
      "text/plain": [
       "55693"
      ]
     },
     "execution_count": 8,
     "metadata": {},
     "output_type": "execute_result"
    }
   ],
   "source": [
    "df['Item Name'].nunique()\n"
   ]
  },
  {
   "cell_type": "markdown",
   "metadata": {},
   "source": [
    "## 1) What is the average dining rating across all restaurants in the dataset"
   ]
  },
  {
   "cell_type": "code",
   "execution_count": 9,
   "metadata": {},
   "outputs": [
    {
     "data": {
      "text/plain": [
       "(array([32236.,     0.,     0.,     0.,     0.,     0.,     0.,     0.,\n",
       "            0.,     0.,   418.,  1446.,  5068.,  6623.,  7796., 22140.,\n",
       "        18709., 24078.,  3427.,  1716.]),\n",
       " array([0.  , 0.24, 0.48, 0.72, 0.96, 1.2 , 1.44, 1.68, 1.92, 2.16, 2.4 ,\n",
       "        2.64, 2.88, 3.12, 3.36, 3.6 , 3.84, 4.08, 4.32, 4.56, 4.8 ]),\n",
       " <BarContainer object of 20 artists>)"
      ]
     },
     "execution_count": 9,
     "metadata": {},
     "output_type": "execute_result"
    },
    {
     "data": {
      "image/png": "[encoded data removed]",
      "text/plain": [
       "<Figure size 640x480 with 1 Axes>"
      ]
     },
     "metadata": {},
     "output_type": "display_data"
    }
   ],
   "source": [
    "plt.hist(df['Dining Rating'],bins=20)"
   ]
  },
  {
   "cell_type": "markdown",
   "metadata": {},
   "source": [
    "Data is right skewed and most of dining rating are between 3.5 to 4.5"
   ]
  },
  {
   "cell_type": "code",
   "execution_count": 10,
   "metadata": {},
   "outputs": [
    {
     "data": {
      "text/plain": [
       "2.8"
      ]
     },
     "execution_count": 10,
     "metadata": {},
     "output_type": "execute_result"
    }
   ],
   "source": [
    "np.mean(df['Dining Rating']).round(1)"
   ]
  },
  {
   "cell_type": "markdown",
   "metadata": {},
   "source": [
    "## 2) Which metropolitan area has the highest average delivery rating"
   ]
  },
  {
   "cell_type": "code",
   "execution_count": 11,
   "metadata": {},
   "outputs": [
    {
     "data": {
      "text/plain": [
       "3.9"
      ]
     },
     "execution_count": 11,
     "metadata": {},
     "output_type": "execute_result"
    }
   ],
   "source": [
    "np.mean(df['Delivery Rating']).round(1)"
   ]
  },
  {
   "cell_type": "code",
   "execution_count": 12,
   "metadata": {},
   "outputs": [
    {
     "data": {
      "text/plain": [
       "Index(['Restaurant Name', 'Dining Rating', 'Delivery Rating', 'Dining Votes',\n",
       "       'Delivery Votes', 'Cuisine ', 'Place Name', 'City', 'Item Name',\n",
       "       'Best Seller', 'Votes', 'Prices'],\n",
       "      dtype='object')"
      ]
     },
     "execution_count": 12,
     "metadata": {},
     "output_type": "execute_result"
    }
   ],
   "source": [
    "df.columns"
   ]
  },
  {
   "cell_type": "code",
   "execution_count": 13,
   "metadata": {},
   "outputs": [],
   "source": [
    "avg_rating = df[['Restaurant Name', 'Dining Rating', 'Delivery Rating','Place Name']]"
   ]
  },
  {
   "cell_type": "code",
   "execution_count": 14,
   "metadata": {},
   "outputs": [],
   "source": [
    "avg_rating = avg_rating.groupby('Place Name').agg({'Delivery Rating': 'mean'})"
   ]
  },
  {
   "cell_type": "code",
   "execution_count": 15,
   "metadata": {},
   "outputs": [],
   "source": [
    "avg_rating = avg_rating.sort_values(by = 'Delivery Rating',ascending=False).dropna()"
   ]
  },
  {
   "cell_type": "code",
   "execution_count": 16,
   "metadata": {},
   "outputs": [
    {
     "data": {
      "text/html": [
       "<div>\n",
       "<style scoped>\n",
       "    .dataframe tbody tr th:only-of-type {\n",
       "        vertical-align: middle;\n",
       "    }\n",
       "\n",
       "    .dataframe tbody tr th {\n",
       "        vertical-align: top;\n",
       "    }\n",
       "\n",
       "    .dataframe thead th {\n",
       "        text-align: right;\n",
       "    }\n",
       "</style>\n",
       "<table border=\"1\" class=\"dataframe\">\n",
       "  <thead>\n",
       "    <tr style=\"text-align: right;\">\n",
       "      <th></th>\n",
       "      <th>Delivery Rating</th>\n",
       "    </tr>\n",
       "    <tr>\n",
       "      <th>Place Name</th>\n",
       "      <th></th>\n",
       "    </tr>\n",
       "  </thead>\n",
       "  <tbody>\n",
       "    <tr>\n",
       "      <th>Fort Kochi</th>\n",
       "      <td>4.6</td>\n",
       "    </tr>\n",
       "    <tr>\n",
       "      <th>Shobha Bazar</th>\n",
       "      <td>4.5</td>\n",
       "    </tr>\n",
       "    <tr>\n",
       "      <th>JM Road</th>\n",
       "      <td>4.5</td>\n",
       "    </tr>\n",
       "    <tr>\n",
       "      <th>Govind Nagar</th>\n",
       "      <td>4.4</td>\n",
       "    </tr>\n",
       "    <tr>\n",
       "      <th>College Street</th>\n",
       "      <td>4.4</td>\n",
       "    </tr>\n",
       "  </tbody>\n",
       "</table>\n",
       "</div>"
      ],
      "text/plain": [
       "                Delivery Rating\n",
       "Place Name                     \n",
       "Fort Kochi                  4.6\n",
       "Shobha Bazar                4.5\n",
       "JM Road                     4.5\n",
       "Govind Nagar                4.4\n",
       "College Street              4.4"
      ]
     },
     "execution_count": 16,
     "metadata": {},
     "output_type": "execute_result"
    }
   ],
   "source": [
    "avg_rating.head()"
   ]
  },
  {
   "cell_type": "markdown",
   "metadata": {},
   "source": [
    "Top 5 Highest rated Delivery rating metropolian places\n",
    "1) Fort Kochi\t\n",
    "2) Shobha Bazar\t\n",
    "3) JM Road\t\n",
    "4) Greater Kailash 1 (GK1)\t\n",
    "5) Rajinder Nagar"
   ]
  },
  {
   "cell_type": "markdown",
   "metadata": {},
   "source": [
    "## 3) What is the total number of dining votes received by all restaurants in each city"
   ]
  },
  {
   "cell_type": "code",
   "execution_count": 17,
   "metadata": {},
   "outputs": [
    {
     "data": {
      "text/plain": [
       "Index(['Restaurant Name', 'Dining Rating', 'Delivery Rating', 'Dining Votes',\n",
       "       'Delivery Votes', 'Cuisine ', 'Place Name', 'City', 'Item Name',\n",
       "       'Best Seller', 'Votes', 'Prices'],\n",
       "      dtype='object')"
      ]
     },
     "execution_count": 17,
     "metadata": {},
     "output_type": "execute_result"
    }
   ],
   "source": [
    "df.columns"
   ]
  },
  {
   "cell_type": "code",
   "execution_count": 18,
   "metadata": {},
   "outputs": [],
   "source": [
    "dining_votes= df[['City','Restaurant Name', 'Dining Votes']]"
   ]
  },
  {
   "cell_type": "code",
   "execution_count": 19,
   "metadata": {},
   "outputs": [
    {
     "data": {
      "text/html": [
       "<div>\n",
       "<style scoped>\n",
       "    .dataframe tbody tr th:only-of-type {\n",
       "        vertical-align: middle;\n",
       "    }\n",
       "\n",
       "    .dataframe tbody tr th {\n",
       "        vertical-align: top;\n",
       "    }\n",
       "\n",
       "    .dataframe thead th {\n",
       "        text-align: right;\n",
       "    }\n",
       "</style>\n",
       "<table border=\"1\" class=\"dataframe\">\n",
       "  <thead>\n",
       "    <tr style=\"text-align: right;\">\n",
       "      <th></th>\n",
       "      <th>Dining Votes</th>\n",
       "    </tr>\n",
       "    <tr>\n",
       "      <th>City</th>\n",
       "      <th></th>\n",
       "    </tr>\n",
       "  </thead>\n",
       "  <tbody>\n",
       "    <tr>\n",
       "      <th>Jaipur</th>\n",
       "      <td>3049158</td>\n",
       "    </tr>\n",
       "    <tr>\n",
       "      <th>Chennai</th>\n",
       "      <td>2608970</td>\n",
       "    </tr>\n",
       "    <tr>\n",
       "      <th>Hyderabad</th>\n",
       "      <td>2064518</td>\n",
       "    </tr>\n",
       "    <tr>\n",
       "      <th>Mumbai</th>\n",
       "      <td>1863212</td>\n",
       "    </tr>\n",
       "    <tr>\n",
       "      <th>Kolkata</th>\n",
       "      <td>1759401</td>\n",
       "    </tr>\n",
       "    <tr>\n",
       "      <th>Lucknow</th>\n",
       "      <td>1471925</td>\n",
       "    </tr>\n",
       "    <tr>\n",
       "      <th>Ahmedabad</th>\n",
       "      <td>1456320</td>\n",
       "    </tr>\n",
       "    <tr>\n",
       "      <th>Bangalore</th>\n",
       "      <td>1422983</td>\n",
       "    </tr>\n",
       "    <tr>\n",
       "      <th>Kochi</th>\n",
       "      <td>1202972</td>\n",
       "    </tr>\n",
       "    <tr>\n",
       "      <th>Pune</th>\n",
       "      <td>700977</td>\n",
       "    </tr>\n",
       "    <tr>\n",
       "      <th>New Delhi</th>\n",
       "      <td>687767</td>\n",
       "    </tr>\n",
       "    <tr>\n",
       "      <th>Raipur</th>\n",
       "      <td>513906</td>\n",
       "    </tr>\n",
       "    <tr>\n",
       "      <th>Goa</th>\n",
       "      <td>47370</td>\n",
       "    </tr>\n",
       "    <tr>\n",
       "      <th>Malleshwaram</th>\n",
       "      <td>32078</td>\n",
       "    </tr>\n",
       "    <tr>\n",
       "      <th>Banaswadi</th>\n",
       "      <td>4559</td>\n",
       "    </tr>\n",
       "    <tr>\n",
       "      <th>Magrath Road</th>\n",
       "      <td>0</td>\n",
       "    </tr>\n",
       "    <tr>\n",
       "      <th>Ulsoor</th>\n",
       "      <td>0</td>\n",
       "    </tr>\n",
       "  </tbody>\n",
       "</table>\n",
       "</div>"
      ],
      "text/plain": [
       "              Dining Votes\n",
       "City                      \n",
       "Jaipur             3049158\n",
       "Chennai            2608970\n",
       "Hyderabad          2064518\n",
       "Mumbai             1863212\n",
       "Kolkata            1759401\n",
       "Lucknow            1471925\n",
       "Ahmedabad          1456320\n",
       "Bangalore          1422983\n",
       "Kochi              1202972\n",
       "Pune                700977\n",
       "New Delhi           687767\n",
       "Raipur              513906\n",
       "Goa                  47370\n",
       "Malleshwaram         32078\n",
       "Banaswadi             4559\n",
       "Magrath Road             0\n",
       "Ulsoor                   0"
      ]
     },
     "execution_count": 19,
     "metadata": {},
     "output_type": "execute_result"
    }
   ],
   "source": [
    "dining_votes.groupby('City').agg({'Dining Votes':'sum'}).sort_values(by='Dining Votes',ascending=False)\n"
   ]
  },
  {
   "cell_type": "markdown",
   "metadata": {},
   "source": [
    "Majority of top votes recievied by the Top Tier cities \n",
    "1) Hyderabad\t\n",
    "2) Chennai\t\n",
    "3) Jaipur\t\n",
    "4) Ahmedabad\t\n",
    "5) Lucknow\t\n",
    "followed by kolkata,mumbai,bangalore"
   ]
  },
  {
   "cell_type": "code",
   "execution_count": 20,
   "metadata": {},
   "outputs": [
    {
     "data": {
      "image/png": "[encoded data removed]",
      "text/plain": [
       "<Figure size 1500x1000 with 1 Axes>"
      ]
     },
     "metadata": {},
     "output_type": "display_data"
    }
   ],
   "source": [
    "city_votes = dining_votes.groupby('City').agg({'Dining Votes': 'sum'}).sort_values(by='Dining Votes', ascending=False)\n",
    "\n",
    "# Plotting the bar plot\n",
    "plt.figure(figsize=(15,10))\n",
    "sns.barplot(city_votes,x='City',y='Dining Votes')\n",
    "plt.title('Total Dining Votes by City')\n",
    "plt.xlabel('City')\n",
    "plt.ylabel('Total Dining Votes')\n",
    "plt.xticks(rotation=45)\n",
    "plt.show()"
   ]
  },
  {
   "cell_type": "markdown",
   "metadata": {},
   "source": [
    "## 4) How many unique cuisines are represented in the dataset"
   ]
  },
  {
   "cell_type": "code",
   "execution_count": 21,
   "metadata": {},
   "outputs": [
    {
     "data": {
      "text/html": [
       "<div>\n",
       "<style scoped>\n",
       "    .dataframe tbody tr th:only-of-type {\n",
       "        vertical-align: middle;\n",
       "    }\n",
       "\n",
       "    .dataframe tbody tr th {\n",
       "        vertical-align: top;\n",
       "    }\n",
       "\n",
       "    .dataframe thead th {\n",
       "        text-align: right;\n",
       "    }\n",
       "</style>\n",
       "<table border=\"1\" class=\"dataframe\">\n",
       "  <thead>\n",
       "    <tr style=\"text-align: right;\">\n",
       "      <th></th>\n",
       "      <th>Restaurant Name</th>\n",
       "      <th>Dining Rating</th>\n",
       "      <th>Delivery Rating</th>\n",
       "      <th>Dining Votes</th>\n",
       "      <th>Delivery Votes</th>\n",
       "      <th>Cuisine</th>\n",
       "      <th>Place Name</th>\n",
       "      <th>City</th>\n",
       "      <th>Item Name</th>\n",
       "      <th>Best Seller</th>\n",
       "      <th>Votes</th>\n",
       "      <th>Prices</th>\n",
       "    </tr>\n",
       "  </thead>\n",
       "  <tbody>\n",
       "    <tr>\n",
       "      <th>0</th>\n",
       "      <td>Doner King</td>\n",
       "      <td>3.9</td>\n",
       "      <td>4.2</td>\n",
       "      <td>39</td>\n",
       "      <td>0</td>\n",
       "      <td>Fast Food</td>\n",
       "      <td>Malakpet</td>\n",
       "      <td>Hyderabad</td>\n",
       "      <td>Platter Kebab Combo</td>\n",
       "      <td>BESTSELLER</td>\n",
       "      <td>84</td>\n",
       "      <td>249.0</td>\n",
       "    </tr>\n",
       "    <tr>\n",
       "      <th>1</th>\n",
       "      <td>Doner King</td>\n",
       "      <td>3.9</td>\n",
       "      <td>4.2</td>\n",
       "      <td>39</td>\n",
       "      <td>0</td>\n",
       "      <td>Fast Food</td>\n",
       "      <td>Malakpet</td>\n",
       "      <td>Hyderabad</td>\n",
       "      <td>Chicken Rumali Shawarma</td>\n",
       "      <td>BESTSELLER</td>\n",
       "      <td>45</td>\n",
       "      <td>129.0</td>\n",
       "    </tr>\n",
       "    <tr>\n",
       "      <th>2</th>\n",
       "      <td>Doner King</td>\n",
       "      <td>3.9</td>\n",
       "      <td>4.2</td>\n",
       "      <td>39</td>\n",
       "      <td>0</td>\n",
       "      <td>Fast Food</td>\n",
       "      <td>Malakpet</td>\n",
       "      <td>Hyderabad</td>\n",
       "      <td>Chicken Tandoori Salad</td>\n",
       "      <td>NaN</td>\n",
       "      <td>39</td>\n",
       "      <td>189.0</td>\n",
       "    </tr>\n",
       "    <tr>\n",
       "      <th>3</th>\n",
       "      <td>Doner King</td>\n",
       "      <td>3.9</td>\n",
       "      <td>4.2</td>\n",
       "      <td>39</td>\n",
       "      <td>0</td>\n",
       "      <td>Fast Food</td>\n",
       "      <td>Malakpet</td>\n",
       "      <td>Hyderabad</td>\n",
       "      <td>Chicken BBQ Salad</td>\n",
       "      <td>BESTSELLER</td>\n",
       "      <td>43</td>\n",
       "      <td>189.0</td>\n",
       "    </tr>\n",
       "    <tr>\n",
       "      <th>4</th>\n",
       "      <td>Doner King</td>\n",
       "      <td>3.9</td>\n",
       "      <td>4.2</td>\n",
       "      <td>39</td>\n",
       "      <td>0</td>\n",
       "      <td>Fast Food</td>\n",
       "      <td>Malakpet</td>\n",
       "      <td>Hyderabad</td>\n",
       "      <td>Special Doner Wrap Combo</td>\n",
       "      <td>MUST TRY</td>\n",
       "      <td>31</td>\n",
       "      <td>205.0</td>\n",
       "    </tr>\n",
       "  </tbody>\n",
       "</table>\n",
       "</div>"
      ],
      "text/plain": [
       "  Restaurant Name  Dining Rating  Delivery Rating  Dining Votes  \\\n",
       "0      Doner King            3.9              4.2            39   \n",
       "1      Doner King            3.9              4.2            39   \n",
       "2      Doner King            3.9              4.2            39   \n",
       "3      Doner King            3.9              4.2            39   \n",
       "4      Doner King            3.9              4.2            39   \n",
       "\n",
       "   Delivery Votes   Cuisine  Place Name        City                 Item Name  \\\n",
       "0               0  Fast Food   Malakpet   Hyderabad       Platter Kebab Combo   \n",
       "1               0  Fast Food   Malakpet   Hyderabad   Chicken Rumali Shawarma   \n",
       "2               0  Fast Food   Malakpet   Hyderabad    Chicken Tandoori Salad   \n",
       "3               0  Fast Food   Malakpet   Hyderabad         Chicken BBQ Salad   \n",
       "4               0  Fast Food   Malakpet   Hyderabad  Special Doner Wrap Combo   \n",
       "\n",
       "  Best Seller  Votes  Prices  \n",
       "0  BESTSELLER     84   249.0  \n",
       "1  BESTSELLER     45   129.0  \n",
       "2         NaN     39   189.0  \n",
       "3  BESTSELLER     43   189.0  \n",
       "4    MUST TRY     31   205.0  "
      ]
     },
     "execution_count": 21,
     "metadata": {},
     "output_type": "execute_result"
    }
   ],
   "source": [
    "df.head()"
   ]
  },
  {
   "cell_type": "code",
   "execution_count": 22,
   "metadata": {},
   "outputs": [
    {
     "data": {
      "text/plain": [
       "48"
      ]
     },
     "execution_count": 22,
     "metadata": {},
     "output_type": "execute_result"
    }
   ],
   "source": [
    "df['Cuisine '].nunique()"
   ]
  },
  {
   "cell_type": "markdown",
   "metadata": {},
   "source": [
    "There are 48 different cuisine in the dataset"
   ]
  },
  {
   "cell_type": "markdown",
   "metadata": {},
   "source": [
    "## 5) Which restaurant has the highest average dining rating in each city"
   ]
  },
  {
   "cell_type": "code",
   "execution_count": 23,
   "metadata": {},
   "outputs": [],
   "source": [
    "dine_rating = df[['Restaurant Name', 'Dining Rating', 'Delivery Rating','City']]\n",
    "dine_rating = dine_rating.groupby(['City','Restaurant Name']).agg({'Dining Rating': 'mean'})\n",
    "dine_rating = dine_rating.sort_values(by = 'Dining Rating',ascending=False).dropna()\n",
    "\n"
   ]
  },
  {
   "cell_type": "code",
   "execution_count": 24,
   "metadata": {},
   "outputs": [],
   "source": [
    "dine_rating = dine_rating.loc[dine_rating.groupby('City')['Dining Rating'].idxmax()]"
   ]
  },
  {
   "cell_type": "code",
   "execution_count": 25,
   "metadata": {},
   "outputs": [
    {
     "data": {
      "text/html": [
       "<div>\n",
       "<style scoped>\n",
       "    .dataframe tbody tr th:only-of-type {\n",
       "        vertical-align: middle;\n",
       "    }\n",
       "\n",
       "    .dataframe tbody tr th {\n",
       "        vertical-align: top;\n",
       "    }\n",
       "\n",
       "    .dataframe thead th {\n",
       "        text-align: right;\n",
       "    }\n",
       "</style>\n",
       "<table border=\"1\" class=\"dataframe\">\n",
       "  <thead>\n",
       "    <tr style=\"text-align: right;\">\n",
       "      <th></th>\n",
       "      <th></th>\n",
       "      <th>Dining Rating</th>\n",
       "    </tr>\n",
       "    <tr>\n",
       "      <th>City</th>\n",
       "      <th>Restaurant Name</th>\n",
       "      <th></th>\n",
       "    </tr>\n",
       "  </thead>\n",
       "  <tbody>\n",
       "    <tr>\n",
       "      <th>Ahmedabad</th>\n",
       "      <th>Urban Khichdi</th>\n",
       "      <td>4.6</td>\n",
       "    </tr>\n",
       "    <tr>\n",
       "      <th>Banaswadi</th>\n",
       "      <th>GOPIZZA</th>\n",
       "      <td>3.7</td>\n",
       "    </tr>\n",
       "    <tr>\n",
       "      <th>Bangalore</th>\n",
       "      <th>Brik Oven</th>\n",
       "      <td>4.6</td>\n",
       "    </tr>\n",
       "    <tr>\n",
       "      <th>Chennai</th>\n",
       "      <th>AB's - Absolute Barbecues</th>\n",
       "      <td>4.7</td>\n",
       "    </tr>\n",
       "    <tr>\n",
       "      <th>Goa</th>\n",
       "      <th>Ritz Classic</th>\n",
       "      <td>4.4</td>\n",
       "    </tr>\n",
       "    <tr>\n",
       "      <th>Hyderabad</th>\n",
       "      <th>Exotica</th>\n",
       "      <td>4.6</td>\n",
       "    </tr>\n",
       "    <tr>\n",
       "      <th>Jaipur</th>\n",
       "      <th>Thali and More</th>\n",
       "      <td>4.7</td>\n",
       "    </tr>\n",
       "    <tr>\n",
       "      <th>Kochi</th>\n",
       "      <th>Cafe 17</th>\n",
       "      <td>4.6</td>\n",
       "    </tr>\n",
       "    <tr>\n",
       "      <th>Kolkata</th>\n",
       "      <th>Momo I Am</th>\n",
       "      <td>4.4</td>\n",
       "    </tr>\n",
       "    <tr>\n",
       "      <th>Lucknow</th>\n",
       "      <th>Dastarkhwan</th>\n",
       "      <td>4.5</td>\n",
       "    </tr>\n",
       "    <tr>\n",
       "      <th>Magrath Road</th>\n",
       "      <th>Keventers Ice Cream</th>\n",
       "      <td>3.5</td>\n",
       "    </tr>\n",
       "    <tr>\n",
       "      <th>Malleshwaram</th>\n",
       "      <th>Rajdhani</th>\n",
       "      <td>4.0</td>\n",
       "    </tr>\n",
       "    <tr>\n",
       "      <th>Mumbai</th>\n",
       "      <th>Boojee Cafe</th>\n",
       "      <td>4.5</td>\n",
       "    </tr>\n",
       "    <tr>\n",
       "      <th>New Delhi</th>\n",
       "      <th>Natural Ice Cream</th>\n",
       "      <td>4.8</td>\n",
       "    </tr>\n",
       "    <tr>\n",
       "      <th>Pune</th>\n",
       "      <th>Natural Ice Cream</th>\n",
       "      <td>4.2</td>\n",
       "    </tr>\n",
       "    <tr>\n",
       "      <th>Raipur</th>\n",
       "      <th>Creams N Caffeine</th>\n",
       "      <td>4.3</td>\n",
       "    </tr>\n",
       "    <tr>\n",
       "      <th>Ulsoor</th>\n",
       "      <th>Dum Safar Biryani</th>\n",
       "      <td>0.0</td>\n",
       "    </tr>\n",
       "  </tbody>\n",
       "</table>\n",
       "</div>"
      ],
      "text/plain": [
       "                                        Dining Rating\n",
       "City         Restaurant Name                         \n",
       "Ahmedabad    Urban Khichdi                        4.6\n",
       "Banaswadi    GOPIZZA                              3.7\n",
       "Bangalore    Brik Oven                            4.6\n",
       "Chennai      AB's - Absolute Barbecues            4.7\n",
       "Goa          Ritz Classic                         4.4\n",
       "Hyderabad    Exotica                              4.6\n",
       "Jaipur       Thali and More                       4.7\n",
       "Kochi        Cafe 17                              4.6\n",
       "Kolkata      Momo I Am                            4.4\n",
       "Lucknow      Dastarkhwan                          4.5\n",
       "Magrath Road Keventers Ice Cream                  3.5\n",
       "Malleshwaram Rajdhani                             4.0\n",
       "Mumbai       Boojee Cafe                          4.5\n",
       "New Delhi    Natural Ice Cream                    4.8\n",
       "Pune         Natural Ice Cream                    4.2\n",
       "Raipur       Creams N Caffeine                    4.3\n",
       "Ulsoor       Dum Safar Biryani                    0.0"
      ]
     },
     "execution_count": 25,
     "metadata": {},
     "output_type": "execute_result"
    }
   ],
   "source": [
    "dine_rating"
   ]
  },
  {
   "cell_type": "markdown",
   "metadata": {},
   "source": [
    "Top rated Restaurants by each city "
   ]
  },
  {
   "cell_type": "code",
   "execution_count": 26,
   "metadata": {},
   "outputs": [
    {
     "name": "stderr",
     "output_type": "stream",
     "text": [
      "C:\\Users\\91932\\AppData\\Local\\Temp\\ipykernel_16496\\1808927563.py:2: FutureWarning: \n",
      "\n",
      "Passing `palette` without assigning `hue` is deprecated and will be removed in v0.14.0. Assign the `y` variable to `hue` and set `legend=False` for the same effect.\n",
      "\n",
      "  sns.barplot(x='Dining Rating', y='City', data=dine_rating, palette='viridis')\n"
     ]
    },
    {
     "data": {
      "image/png": "[encoded data removed]",
      "text/plain": [
       "<Figure size 1200x800 with 1 Axes>"
      ]
     },
     "metadata": {},
     "output_type": "display_data"
    }
   ],
   "source": [
    "plt.figure(figsize=(12, 8))\n",
    "sns.barplot(x='Dining Rating', y='City', data=dine_rating, palette='viridis')\n",
    "\n",
    "# Adding titles and labels\n",
    "plt.title('Dining Ratings for Restaurants by City', fontsize=16)\n",
    "plt.xlabel('Dining Rating', fontsize=14)\n",
    "plt.ylabel('City', fontsize=14)\n",
    "\n",
    "# Show the plot\n",
    "plt.show()"
   ]
  },
  {
   "cell_type": "markdown",
   "metadata": {},
   "source": [
    "## 6) What is the average price of the best-selling dishes compared to the non-best-selling dishes"
   ]
  },
  {
   "cell_type": "code",
   "execution_count": 27,
   "metadata": {},
   "outputs": [
    {
     "data": {
      "text/plain": [
       "Restaurant Name        0\n",
       "Dining Rating          0\n",
       "Delivery Rating        0\n",
       "Dining Votes           0\n",
       "Delivery Votes         0\n",
       "Cuisine                0\n",
       "Place Name             0\n",
       "City                   0\n",
       "Item Name              0\n",
       "Best Seller        95715\n",
       "Votes                  0\n",
       "Prices                 0\n",
       "dtype: int64"
      ]
     },
     "execution_count": 27,
     "metadata": {},
     "output_type": "execute_result"
    }
   ],
   "source": [
    "df.isnull().sum()"
   ]
  },
  {
   "cell_type": "code",
   "execution_count": 28,
   "metadata": {},
   "outputs": [
    {
     "data": {
      "text/plain": [
       "array(['BESTSELLER', nan, 'MUST TRY', \"CHEF'S SPECIAL\", 'SEASONAL',\n",
       "       'Not eligible for coupons', 'VEGAN', 'Not on Pro', 'SPICY', 'NEW',\n",
       "       'GLUTEN FREE', 'DAIRY FREE', 'FODMAP FRIENDLY',\n",
       "       'Eggless available'], dtype=object)"
      ]
     },
     "execution_count": 28,
     "metadata": {},
     "output_type": "execute_result"
    }
   ],
   "source": [
    "df['Best Seller'].unique()"
   ]
  },
  {
   "cell_type": "code",
   "execution_count": 29,
   "metadata": {},
   "outputs": [
    {
     "data": {
      "text/plain": [
       "Restaurant Name\n",
       "McDonald's                          2059\n",
       "Domino's Pizza                      1435\n",
       "Burger King                         1352\n",
       "FreshMenu                           1097\n",
       "Pizza Hut                           1077\n",
       "Kanha                                934\n",
       "La Pino'z Pizza                      868\n",
       "Subway                               823\n",
       "KFC                                  751\n",
       "The Momoz Hub                        700\n",
       "Agarwal Caterers                     637\n",
       "Savoury Sea Shell                    595\n",
       "Marky Momos                          567\n",
       "Raj Restaurant                       555\n",
       "Capital Multi Cuisine Restaurant     545\n",
       "Truffles                             530\n",
       "Harishankar Veg Restro               520\n",
       "Casa Blanca                          508\n",
       "Aromas Of Biryani                    504\n",
       "Rominus Pizza And Burger             463\n",
       "Name: count, dtype: int64"
      ]
     },
     "execution_count": 29,
     "metadata": {},
     "output_type": "execute_result"
    }
   ],
   "source": [
    "df['Restaurant Name'].value_counts().head(20)"
   ]
  },
  {
   "cell_type": "code",
   "execution_count": 30,
   "metadata": {},
   "outputs": [
    {
     "data": {
      "text/html": [
       "<div>\n",
       "<style scoped>\n",
       "    .dataframe tbody tr th:only-of-type {\n",
       "        vertical-align: middle;\n",
       "    }\n",
       "\n",
       "    .dataframe tbody tr th {\n",
       "        vertical-align: top;\n",
       "    }\n",
       "\n",
       "    .dataframe thead th {\n",
       "        text-align: right;\n",
       "    }\n",
       "</style>\n",
       "<table border=\"1\" class=\"dataframe\">\n",
       "  <thead>\n",
       "    <tr style=\"text-align: right;\">\n",
       "      <th></th>\n",
       "      <th>Restaurant Name</th>\n",
       "      <th>Dining Rating</th>\n",
       "      <th>Delivery Rating</th>\n",
       "      <th>Dining Votes</th>\n",
       "      <th>Delivery Votes</th>\n",
       "      <th>Cuisine</th>\n",
       "      <th>Place Name</th>\n",
       "      <th>City</th>\n",
       "      <th>Item Name</th>\n",
       "      <th>Best Seller</th>\n",
       "      <th>Votes</th>\n",
       "      <th>Prices</th>\n",
       "    </tr>\n",
       "  </thead>\n",
       "  <tbody>\n",
       "    <tr>\n",
       "      <th>0</th>\n",
       "      <td>Doner King</td>\n",
       "      <td>3.9</td>\n",
       "      <td>4.2</td>\n",
       "      <td>39</td>\n",
       "      <td>0</td>\n",
       "      <td>Fast Food</td>\n",
       "      <td>Malakpet</td>\n",
       "      <td>Hyderabad</td>\n",
       "      <td>Platter Kebab Combo</td>\n",
       "      <td>BESTSELLER</td>\n",
       "      <td>84</td>\n",
       "      <td>249.0</td>\n",
       "    </tr>\n",
       "    <tr>\n",
       "      <th>1</th>\n",
       "      <td>Doner King</td>\n",
       "      <td>3.9</td>\n",
       "      <td>4.2</td>\n",
       "      <td>39</td>\n",
       "      <td>0</td>\n",
       "      <td>Fast Food</td>\n",
       "      <td>Malakpet</td>\n",
       "      <td>Hyderabad</td>\n",
       "      <td>Chicken Rumali Shawarma</td>\n",
       "      <td>BESTSELLER</td>\n",
       "      <td>45</td>\n",
       "      <td>129.0</td>\n",
       "    </tr>\n",
       "    <tr>\n",
       "      <th>2</th>\n",
       "      <td>Doner King</td>\n",
       "      <td>3.9</td>\n",
       "      <td>4.2</td>\n",
       "      <td>39</td>\n",
       "      <td>0</td>\n",
       "      <td>Fast Food</td>\n",
       "      <td>Malakpet</td>\n",
       "      <td>Hyderabad</td>\n",
       "      <td>Chicken Tandoori Salad</td>\n",
       "      <td>NaN</td>\n",
       "      <td>39</td>\n",
       "      <td>189.0</td>\n",
       "    </tr>\n",
       "    <tr>\n",
       "      <th>3</th>\n",
       "      <td>Doner King</td>\n",
       "      <td>3.9</td>\n",
       "      <td>4.2</td>\n",
       "      <td>39</td>\n",
       "      <td>0</td>\n",
       "      <td>Fast Food</td>\n",
       "      <td>Malakpet</td>\n",
       "      <td>Hyderabad</td>\n",
       "      <td>Chicken BBQ Salad</td>\n",
       "      <td>BESTSELLER</td>\n",
       "      <td>43</td>\n",
       "      <td>189.0</td>\n",
       "    </tr>\n",
       "    <tr>\n",
       "      <th>4</th>\n",
       "      <td>Doner King</td>\n",
       "      <td>3.9</td>\n",
       "      <td>4.2</td>\n",
       "      <td>39</td>\n",
       "      <td>0</td>\n",
       "      <td>Fast Food</td>\n",
       "      <td>Malakpet</td>\n",
       "      <td>Hyderabad</td>\n",
       "      <td>Special Doner Wrap Combo</td>\n",
       "      <td>MUST TRY</td>\n",
       "      <td>31</td>\n",
       "      <td>205.0</td>\n",
       "    </tr>\n",
       "  </tbody>\n",
       "</table>\n",
       "</div>"
      ],
      "text/plain": [
       "  Restaurant Name  Dining Rating  Delivery Rating  Dining Votes  \\\n",
       "0      Doner King            3.9              4.2            39   \n",
       "1      Doner King            3.9              4.2            39   \n",
       "2      Doner King            3.9              4.2            39   \n",
       "3      Doner King            3.9              4.2            39   \n",
       "4      Doner King            3.9              4.2            39   \n",
       "\n",
       "   Delivery Votes   Cuisine  Place Name        City                 Item Name  \\\n",
       "0               0  Fast Food   Malakpet   Hyderabad       Platter Kebab Combo   \n",
       "1               0  Fast Food   Malakpet   Hyderabad   Chicken Rumali Shawarma   \n",
       "2               0  Fast Food   Malakpet   Hyderabad    Chicken Tandoori Salad   \n",
       "3               0  Fast Food   Malakpet   Hyderabad         Chicken BBQ Salad   \n",
       "4               0  Fast Food   Malakpet   Hyderabad  Special Doner Wrap Combo   \n",
       "\n",
       "  Best Seller  Votes  Prices  \n",
       "0  BESTSELLER     84   249.0  \n",
       "1  BESTSELLER     45   129.0  \n",
       "2         NaN     39   189.0  \n",
       "3  BESTSELLER     43   189.0  \n",
       "4    MUST TRY     31   205.0  "
      ]
     },
     "execution_count": 30,
     "metadata": {},
     "output_type": "execute_result"
    }
   ],
   "source": [
    "df.head()"
   ]
  },
  {
   "cell_type": "code",
   "execution_count": 31,
   "metadata": {},
   "outputs": [],
   "source": [
    "import math"
   ]
  },
  {
   "cell_type": "code",
   "execution_count": 32,
   "metadata": {},
   "outputs": [],
   "source": [
    "df.columns = df.columns.str.strip()\n",
    "excluded_cuisine = 'Beverages'\n",
    "df_filtered = df[df['Cuisine'] != excluded_cuisine]"
   ]
  },
  {
   "cell_type": "code",
   "execution_count": 33,
   "metadata": {},
   "outputs": [],
   "source": [
    "\n",
    "df_grouped = df_filtered.groupby(by=['City','Cuisine']).agg({'Prices':'sum'}).round(0).reset_index()"
   ]
  },
  {
   "cell_type": "code",
   "execution_count": 34,
   "metadata": {},
   "outputs": [
    {
     "data": {
      "text/html": [
       "<div>\n",
       "<style scoped>\n",
       "    .dataframe tbody tr th:only-of-type {\n",
       "        vertical-align: middle;\n",
       "    }\n",
       "\n",
       "    .dataframe tbody tr th {\n",
       "        vertical-align: top;\n",
       "    }\n",
       "\n",
       "    .dataframe thead th {\n",
       "        text-align: right;\n",
       "    }\n",
       "</style>\n",
       "<table border=\"1\" class=\"dataframe\">\n",
       "  <thead>\n",
       "    <tr style=\"text-align: right;\">\n",
       "      <th></th>\n",
       "      <th>index</th>\n",
       "      <th>City</th>\n",
       "      <th>Cuisine</th>\n",
       "      <th>Prices</th>\n",
       "    </tr>\n",
       "  </thead>\n",
       "  <tbody>\n",
       "    <tr>\n",
       "      <th>0</th>\n",
       "      <td>3</td>\n",
       "      <td>Ahmedabad</td>\n",
       "      <td>Desserts</td>\n",
       "      <td>295454.0</td>\n",
       "    </tr>\n",
       "    <tr>\n",
       "      <th>1</th>\n",
       "      <td>5</td>\n",
       "      <td>Ahmedabad</td>\n",
       "      <td>Gujarati</td>\n",
       "      <td>161715.0</td>\n",
       "    </tr>\n",
       "    <tr>\n",
       "      <th>2</th>\n",
       "      <td>4</td>\n",
       "      <td>Ahmedabad</td>\n",
       "      <td>Fast Food</td>\n",
       "      <td>129668.0</td>\n",
       "    </tr>\n",
       "    <tr>\n",
       "      <th>3</th>\n",
       "      <td>16</td>\n",
       "      <td>Ahmedabad</td>\n",
       "      <td>Sichuan</td>\n",
       "      <td>115678.0</td>\n",
       "    </tr>\n",
       "    <tr>\n",
       "      <th>4</th>\n",
       "      <td>15</td>\n",
       "      <td>Ahmedabad</td>\n",
       "      <td>Shake</td>\n",
       "      <td>109552.0</td>\n",
       "    </tr>\n",
       "    <tr>\n",
       "      <th>...</th>\n",
       "      <td>...</td>\n",
       "      <td>...</td>\n",
       "      <td>...</td>\n",
       "      <td>...</td>\n",
       "    </tr>\n",
       "    <tr>\n",
       "      <th>199</th>\n",
       "      <td>200</td>\n",
       "      <td>Pune</td>\n",
       "      <td>Shake</td>\n",
       "      <td>13236.0</td>\n",
       "    </tr>\n",
       "    <tr>\n",
       "      <th>200</th>\n",
       "      <td>191</td>\n",
       "      <td>Pune</td>\n",
       "      <td>Burger</td>\n",
       "      <td>11994.0</td>\n",
       "    </tr>\n",
       "    <tr>\n",
       "      <th>201</th>\n",
       "      <td>189</td>\n",
       "      <td>Pune</td>\n",
       "      <td>Bakery</td>\n",
       "      <td>10974.0</td>\n",
       "    </tr>\n",
       "    <tr>\n",
       "      <th>202</th>\n",
       "      <td>202</td>\n",
       "      <td>Raipur</td>\n",
       "      <td>Pizza</td>\n",
       "      <td>1498356.0</td>\n",
       "    </tr>\n",
       "    <tr>\n",
       "      <th>203</th>\n",
       "      <td>203</td>\n",
       "      <td>Ulsoor</td>\n",
       "      <td>Desserts</td>\n",
       "      <td>44236.0</td>\n",
       "    </tr>\n",
       "  </tbody>\n",
       "</table>\n",
       "<p>204 rows × 4 columns</p>\n",
       "</div>"
      ],
      "text/plain": [
       "     index        City    Cuisine     Prices\n",
       "0        3   Ahmedabad   Desserts   295454.0\n",
       "1        5   Ahmedabad   Gujarati   161715.0\n",
       "2        4   Ahmedabad  Fast Food   129668.0\n",
       "3       16   Ahmedabad    Sichuan   115678.0\n",
       "4       15   Ahmedabad      Shake   109552.0\n",
       "..     ...         ...        ...        ...\n",
       "199    200        Pune      Shake    13236.0\n",
       "200    191        Pune     Burger    11994.0\n",
       "201    189        Pune     Bakery    10974.0\n",
       "202    202      Raipur      Pizza  1498356.0\n",
       "203    203      Ulsoor   Desserts    44236.0\n",
       "\n",
       "[204 rows x 4 columns]"
      ]
     },
     "execution_count": 34,
     "metadata": {},
     "output_type": "execute_result"
    }
   ],
   "source": [
    "df_grouped.sort_values(by = ['City','Prices'],ascending=[True,False]).reset_index()"
   ]
  },
  {
   "cell_type": "code",
   "execution_count": 35,
   "metadata": {},
   "outputs": [],
   "source": [
    "top_city = df_grouped.groupby(level=0)['Prices'].sum()"
   ]
  },
  {
   "cell_type": "code",
   "execution_count": null,
   "metadata": {},
   "outputs": [
    {
     "name": "stderr",
     "output_type": "stream",
     "text": [
      "C:\\Users\\91932\\AppData\\Local\\Temp\\ipykernel_16496\\2251444701.py:3: DeprecationWarning: DataFrameGroupBy.apply operated on the grouping columns. This behavior is deprecated, and in a future version of pandas the grouping columns will be excluded from the operation. Either pass `include_groups=False` to exclude the groupings or explicitly select the grouping columns after groupby to silence this warning.\n",
      "  .apply(lambda x: x.nlargest(5, 'Prices'))\n"
     ]
    }
   ],
   "source": [
    "\n",
    "top_cuisines_per_city = (\n",
    "    df_grouped.groupby('City', group_keys=False)\n",
    "    .apply(lambda x: x.nlargest(5, 'Prices'))\n",
    "    .reset_index()\n",
    ")\n"
   ]
  },
  {
   "cell_type": "code",
   "execution_count": 37,
   "metadata": {},
   "outputs": [],
   "source": [
    "from matplotlib.ticker import FuncFormatter"
   ]
  },
  {
   "cell_type": "code",
   "execution_count": 38,
   "metadata": {},
   "outputs": [
    {
     "data": {
      "image/png": "[encoded data removed]",
      "text/plain": [
       "<Figure size 2000x1000 with 1 Axes>"
      ]
     },
     "metadata": {},
     "output_type": "display_data"
    }
   ],
   "source": [
    "plt.figure(figsize=(20, 10))\n",
    "\n",
    "# Define the formatter function for y-axis\n",
    "def thousands_formatter(x, pos):\n",
    "    return f'{int(x/1000)}k'\n",
    "\n",
    "# Plotting the data using seaborn\n",
    "ax = sns.barplot(data=top_cuisines_per_city, x='City', y='Prices', hue='Cuisine')\n",
    "\n",
    "# Apply the formatter to the y-axis\n",
    "ax.yaxis.set_major_formatter(FuncFormatter(thousands_formatter))\n",
    "\n",
    "# Adding labels and title\n",
    "plt.title('Top 5 Cuisine of each City')\n",
    "plt.xlabel('Cities')\n",
    "plt.ylabel('Spend on each Cuisine')\n",
    "\n",
    "plt.show()"
   ]
  },
  {
   "cell_type": "code",
   "execution_count": 42,
   "metadata": {},
   "outputs": [],
   "source": [
    "top_cities = df_grouped.groupby(by='City').agg({'Prices':'sum'}).sort_values(by='Prices',ascending=False)"
   ]
  },
  {
   "cell_type": "code",
   "execution_count": 45,
   "metadata": {},
   "outputs": [
    {
     "name": "stderr",
     "output_type": "stream",
     "text": [
      "C:\\Users\\91932\\AppData\\Local\\Temp\\ipykernel_16496\\1768404453.py:8: FutureWarning: \n",
      "\n",
      "Passing `palette` without assigning `hue` is deprecated and will be removed in v0.14.0. Assign the `y` variable to `hue` and set `legend=False` for the same effect.\n",
      "\n",
      "  ax = sns.barplot(data=top_cities, x='Prices', y='City', palette=\"viridis\")\n"
     ]
    },
    {
     "data": {
      "image/png": "[encoded data removed]",
      "text/plain": [
       "<Figure size 1600x800 with 1 Axes>"
      ]
     },
     "metadata": {},
     "output_type": "display_data"
    }
   ],
   "source": [
    "\n",
    "\n",
    "# Define a custom formatter function for 'lakhs'\n",
    "def lakhs_formatter(x, pos):\n",
    "    return f'{int(x / 100000)} Lakhs'\n",
    "\n",
    "plt.figure(figsize=(16, 8))\n",
    "\n",
    "# Use seaborn to create a bar plot\n",
    "ax = sns.barplot(data=top_cities, x='Prices', y='City', palette=\"viridis\")\n",
    "\n",
    "# Set y-axis format to lakhs\n",
    "ax.xaxis.set_major_formatter(FuncFormatter(lakhs_formatter))\n",
    "\n",
    "# Adding labels and title with enhanced font size and weight\n",
    "plt.title('Top Cities by Spending on Zomato', fontsize=18, weight='bold', color='#4a4a4a')\n",
    "plt.xlabel('Total Spend (in Lakhs)', fontsize=14, weight='bold', color='#4a4a4a')\n",
    "plt.ylabel('Cities', fontsize=14, weight='bold', color='#4a4a4a')\n",
    "\n",
    "# Add data labels to each bar for clarity\n",
    "for p in ax.patches:\n",
    "    plt.text(\n",
    "        p.get_width() + 5000, \n",
    "        p.get_y() + p.get_height() / 2, \n",
    "        f'{int(p.get_width() / 100000)} Lakhs', \n",
    "        ha='left', \n",
    "        va='center', \n",
    "        color='#333333', \n",
    "        fontsize=10\n",
    "    )\n",
    "\n",
    "# Show the plot\n",
    "plt.show()\n"
   ]
  },
  {
   "cell_type": "code",
   "execution_count": null,
   "metadata": {},
   "outputs": [
    {
     "data": {
      "text/plain": [
       "array(['Fast Food', 'Wraps', 'Biryani', 'Chinese', 'Beverages',\n",
       "       'Desserts', 'Shake', 'Mandi', 'South Indian', 'Kebab', 'Pizza',\n",
       "       'Bakery', 'Ice Cream', 'Mughlai', 'North Indian', 'Momos',\n",
       "       'Shawarma', 'Burger', 'Turkish', 'Rolls', 'Coffee', 'Seafood',\n",
       "       'Hyderabadi', 'Salad', 'Sichuan', 'Sandwich', 'Italian',\n",
       "       'Lucknowi', 'Continental', 'American', 'Mexican', 'Kerala', 'BBQ',\n",
       "       'Rajasthani', 'Healthy Food', 'Tibetan', 'Street Food', 'Mithai',\n",
       "       'Juices', 'Maharashtrian', 'Thai', 'Vietnamese', 'Pasta',\n",
       "       'Gujarati', 'Kathiyawadi', 'Andhra', 'Awadhi', 'Tea'], dtype=object)"
      ]
     },
     "execution_count": 48,
     "metadata": {},
     "output_type": "execute_result"
    }
   ],
   "source": []
  },
  {
   "cell_type": "code",
   "execution_count": null,
   "metadata": {},
   "outputs": [],
   "source": []
  },
  {
   "cell_type": "code",
   "execution_count": null,
   "metadata": {},
   "outputs": [],
   "source": []
  },
  {
   "cell_type": "code",
   "execution_count": null,
   "metadata": {},
   "outputs": [],
   "source": []
  },
  {
   "cell_type": "code",
   "execution_count": null,
   "metadata": {},
   "outputs": [],
   "source": []
  }
 ],
 "metadata": {
  "kernelspec": {
   "display_name": "base",
   "language": "python",
   "name": "python3"
  },
  "language_info": {
   "codemirror_mode": {
    "name": "ipython",
    "version": 3
   },
   "file_extension": ".py",
   "mimetype": "text/x-python",
   "name": "python",
   "nbconvert_exporter": "python",
   "pygments_lexer": "ipython3",
   "version": "3.12.4"
  }
 },
 "nbformat": 4,
 "nbformat_minor": 2
}
